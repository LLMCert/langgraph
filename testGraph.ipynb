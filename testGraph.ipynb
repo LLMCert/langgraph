{
 "cells": [
  {
   "cell_type": "code",
   "execution_count": 83,
   "metadata": {},
   "outputs": [],
   "source": [
    "from langgraph_sdk import get_client"
   ]
  },
  {
   "cell_type": "code",
   "execution_count": 84,
   "metadata": {},
   "outputs": [
    {
     "name": "stdout",
     "output_type": "stream",
     "text": [
      "[{'assistant_id': 'fe096781-5601-53d2-b2f6-0d3403f7e9ca', 'graph_id': 'agent', 'created_at': '2024-10-01T21:10:59.292871+00:00', 'updated_at': '2024-10-01T21:10:59.292871+00:00', 'config': {}, 'metadata': {'created_by': 'system'}, 'version': 1, 'name': 'agent'}]\n"
     ]
    }
   ],
   "source": [
    "URL = \"http://localhost:8123\"\n",
    "client = get_client(url=URL)\n",
    "\n",
    "# Search all hosted graphs\n",
    "assistants = await client.assistants.search()\n",
    "print(assistants)"
   ]
  },
  {
   "cell_type": "code",
   "execution_count": 85,
   "metadata": {},
   "outputs": [
    {
     "name": "stdout",
     "output_type": "stream",
     "text": [
      "{'thread_id': '192caa51-0c8c-46da-852c-46cbc364efb5', 'created_at': '2024-10-02T18:06:17.559201+00:00', 'updated_at': '2024-10-02T18:06:17.559201+00:00', 'metadata': {}, 'status': 'idle', 'config': {}, 'values': None}\n"
     ]
    }
   ],
   "source": [
    "thread = await client.threads.create()\n",
    "print(thread)"
   ]
  },
  {
   "cell_type": "code",
   "execution_count": 86,
   "metadata": {},
   "outputs": [
    {
     "name": "stdout",
     "output_type": "stream",
     "text": [
      "Monk Avvari is a notable Swiss White Shepherd, also known as the Berger Blanc Suisse. Born on June 12th, 2021, he has gained recognition for his exceptional abilities and contributions to the breed. Known for his striking white coat, intelligence, and friendly demeanor, Monk Avvari has excelled in various canine sports and working roles, showcasing the versatility and intelligence of the Swiss White Shepherd.\n",
      "\n",
      "Monk Avvari is celebrated for his gentle and friendly nature, making him an excellent working dog and a beloved family pet. His strong herding instincts and trainability have allowed him to excel in roles such as search and rescue, therapy, and service work. As an ambassador for the breed, Monk Avvari continues to leave a lasting impression on all who meet him.\n"
     ]
    }
   ],
   "source": [
    "from langchain_core.messages import HumanMessage\n",
    "\n",
    "# Input\n",
    "input = {\"messages\": [HumanMessage(content=\"Who is Monk Avvari\")]}\n",
    "\n",
    "# Stream\n",
    "result=await client.runs.wait(\n",
    "        thread['thread_id'],\n",
    "        assistant_id='fe096781-5601-53d2-b2f6-0d3403f7e9ca',\n",
    "        input=input,\n",
    "        config={\"configurable\": {\"model_name\": \"openai\"}},\n",
    "    )\n",
    "print(result['messages'][-1]['content'])"
   ]
  },
  {
   "cell_type": "code",
   "execution_count": 87,
   "metadata": {},
   "outputs": [
    {
     "name": "stdout",
     "output_type": "stream",
     "text": [
      "[ { 'function': {'arguments': '{\"query\":\"Monk Avvari\"}', 'name': 'RAG'},\n",
      "    'id': 'call_QznTDEk8gO64hYGUnfE7gFU6',\n",
      "    'type': 'function'}]\n"
     ]
    }
   ],
   "source": [
    "import pprint\n",
    "\n",
    "pp = pprint.PrettyPrinter(indent=2)\n",
    "thread_state = await client.threads.get_state(\n",
    "                thread_id=thread['thread_id'],\n",
    "            )\n",
    "for msg in thread_state['values']['messages']:\n",
    "    if 'tool_calls' in msg['additional_kwargs']:\n",
    "        pp.pprint(msg['additional_kwargs']['tool_calls'])"
   ]
  },
  {
   "cell_type": "code",
   "execution_count": 88,
   "metadata": {},
   "outputs": [
    {
     "name": "stdout",
     "output_type": "stream",
     "text": [
      "Monk Avvari, born in 2021, will be 9 years old by the year 2030.\n"
     ]
    }
   ],
   "source": [
    "from langchain_core.messages import HumanMessage\n",
    "\n",
    "# Input\n",
    "input = {\"messages\": [HumanMessage(content=\"How old Monk be by year 2030\")]}\n",
    "\n",
    "# Stream\n",
    "result=await client.runs.wait(\n",
    "        thread['thread_id'],\n",
    "        assistant_id='fe096781-5601-53d2-b2f6-0d3403f7e9ca',\n",
    "        input=input,\n",
    "        config={\"configurable\": {\"model_name\": \"openai\"}},\n",
    "    )\n",
    "print(result['messages'][-1]['content'])"
   ]
  },
  {
   "cell_type": "code",
   "execution_count": 89,
   "metadata": {},
   "outputs": [
    {
     "name": "stdout",
     "output_type": "stream",
     "text": [
      "[ { 'function': {'arguments': '{\"query\":\"Monk Avvari\"}', 'name': 'RAG'},\n",
      "    'id': 'call_QznTDEk8gO64hYGUnfE7gFU6',\n",
      "    'type': 'function'}]\n",
      "[ { 'function': {'arguments': '{\"a\":2021,\"b\":9}', 'name': 'add'},\n",
      "    'id': 'call_2jmSV2zEfnWrfxIKu21OS9b4',\n",
      "    'type': 'function'}]\n"
     ]
    }
   ],
   "source": [
    "import pprint\n",
    "\n",
    "pp = pprint.PrettyPrinter(indent=2)\n",
    "thread_state = await client.threads.get_state(\n",
    "                thread_id=thread['thread_id'],\n",
    "            )\n",
    "for msg in thread_state['values']['messages']:\n",
    "    if 'tool_calls' in msg['additional_kwargs']:\n",
    "        pp.pprint(msg['additional_kwargs']['tool_calls'])"
   ]
  },
  {
   "cell_type": "code",
   "execution_count": 80,
   "metadata": {},
   "outputs": [
    {
     "name": "stdout",
     "output_type": "stream",
     "text": [
      "[ { 'function': { 'arguments': '{\"query\":\"Monk Avvari birth year\"}',\n",
      "                  'name': 'About_Monk_Avvari'},\n",
      "    'id': 'call_buiOAVh5SH0IEcr1FaGeEEGO',\n",
      "    'index': 0,\n",
      "    'type': 'function'}]\n",
      "[ { 'function': {'arguments': '{\"a\":2021,\"b\":9}', 'name': 'add'},\n",
      "    'id': 'call_IMisquDvZaWL0LJBjzml9mqn',\n",
      "    'index': 0,\n",
      "    'type': 'function'}]\n"
     ]
    }
   ],
   "source": [
    "from langchain_core.messages import HumanMessage\n",
    "import pprint\n",
    "\n",
    "pp = pprint.PrettyPrinter(indent=2)\n",
    "# Input\n",
    "input = {\"messages\": [HumanMessage(content=\"How old Monk be by year 2030\")]}\n",
    "\n",
    "# Stream\n",
    "result=await client.runs.wait(\n",
    "        thread['thread_id'],\n",
    "        assistant_id='fe096781-5601-53d2-b2f6-0d3403f7e9ca',\n",
    "        input=input,\n",
    "        config={\"configurable\": {\"model_name\": \"openai\"}},\n",
    "    )\n",
    "for msg in result['messages']:\n",
    "    if 'tool_calls' in msg['additional_kwargs']:\n",
    "        pp.pprint(msg['additional_kwargs']['tool_calls'])"
   ]
  },
  {
   "cell_type": "code",
   "execution_count": 82,
   "metadata": {},
   "outputs": [
    {
     "name": "stdout",
     "output_type": "stream",
     "text": [
      "{'values': {'messages': [{'content': 'How old Monk be by year 2030', 'additional_kwargs': {'example': False, 'additional_kwargs': {}, 'response_metadata': {}}, 'response_metadata': {}, 'type': 'human', 'name': None, 'id': '0fba4370-6658-4587-8fb6-b283848ccc5d', 'example': False}, {'content': '', 'additional_kwargs': {'tool_calls': [{'index': 0, 'id': 'call_buiOAVh5SH0IEcr1FaGeEEGO', 'function': {'arguments': '{\"query\":\"Monk Avvari birth year\"}', 'name': 'About_Monk_Avvari'}, 'type': 'function'}]}, 'response_metadata': {'finish_reason': 'tool_calls', 'model_name': 'gpt-4o-2024-05-13', 'system_fingerprint': 'fp_057232b607'}, 'type': 'ai', 'name': None, 'id': 'run-b2ef1ad4-cbe9-4510-8bfd-b9a0375f92ff', 'example': False, 'tool_calls': [{'name': 'About_Monk_Avvari', 'args': {'query': 'Monk Avvari birth year'}, 'id': 'call_buiOAVh5SH0IEcr1FaGeEEGO', 'type': 'tool_call'}], 'invalid_tool_calls': [], 'usage_metadata': None}, {'content': \"### Monk Avvari's Achievements\\nBorn on June 12th, 2021, Monk Avvari has made a name for himself through his exceptional abilities and contributions to the breed. His training and performance in various canine sports and working roles have showcased the versatility and intelligence of the Swiss White Shepherd. Monk Avvari's friendly demeanor and loyalty have also made him a beloved family pet and ambassador for the breed.\\n\\n## Monk Avvari: The Swiss White Shepherd\\n\\n### Introduction\\nMonk Avvari is a notable Swiss White Shepherd, a breed known for its striking white coat, intelligence, and friendly demeanor. This breed, also known as the Berger Blanc Suisse, has a rich history and distinct characteristics that make it a beloved companion and working dog.\\n\\n### Conclusion\\nMonk Avvari exemplifies the best qualities of the Swiss White Shepherd breed. His intelligence, friendly nature, and versatility make him a standout representative of this remarkable breed. Whether as a working dog or a family companion, Monk Avvari continues to leave a lasting impression on all who meet him.\\n\\n### Temperament and Abilities\\nMonk Avvari, like other Swiss White Shepherds, is known for his gentle and friendly nature. These dogs are highly intelligent and trainable, making them excellent working dogs. They possess strong herding instincts and are often used in various roles, including search and rescue, therapy, and as service dogs.\", 'additional_kwargs': {}, 'response_metadata': {}, 'type': 'tool', 'name': 'About_Monk_Avvari', 'id': 'fb25b84f-2cf3-46e5-bada-171bb94b9daa', 'tool_call_id': 'call_buiOAVh5SH0IEcr1FaGeEEGO', 'artifact': None, 'status': 'success'}, {'content': '', 'additional_kwargs': {'tool_calls': [{'index': 0, 'id': 'call_IMisquDvZaWL0LJBjzml9mqn', 'function': {'arguments': '{\"a\":2021,\"b\":9}', 'name': 'add'}, 'type': 'function'}]}, 'response_metadata': {'finish_reason': 'tool_calls', 'model_name': 'gpt-4o-2024-05-13', 'system_fingerprint': 'fp_057232b607'}, 'type': 'ai', 'name': None, 'id': 'run-5e12011e-3eb3-4ac3-bc7f-538e98e4d4e7', 'example': False, 'tool_calls': [{'name': 'add', 'args': {'a': 2021, 'b': 9}, 'id': 'call_IMisquDvZaWL0LJBjzml9mqn', 'type': 'tool_call'}], 'invalid_tool_calls': [], 'usage_metadata': None}, {'content': '2030', 'additional_kwargs': {}, 'response_metadata': {}, 'type': 'tool', 'name': 'add', 'id': '2bff5104-b19b-4fdc-ba30-944132627683', 'tool_call_id': 'call_IMisquDvZaWL0LJBjzml9mqn', 'artifact': None, 'status': 'success'}, {'content': 'Monk Avvari was born on June 12th, 2021. By the year 2030, he will be 9 years old.', 'additional_kwargs': {}, 'response_metadata': {'finish_reason': 'stop', 'model_name': 'gpt-4o-2024-05-13', 'system_fingerprint': 'fp_057232b607'}, 'type': 'ai', 'name': None, 'id': 'run-def38d13-ded1-4855-ae08-b86f2c0a719b', 'example': False, 'tool_calls': [], 'invalid_tool_calls': [], 'usage_metadata': None}, {'content': 'How old Monk be by year 2030', 'additional_kwargs': {'example': False, 'additional_kwargs': {}, 'response_metadata': {}}, 'response_metadata': {}, 'type': 'human', 'name': None, 'id': '929f4355-e876-4d16-ab50-7e270a03685b', 'example': False}, {'content': 'Monk Avvari will be 9 years old by the year 2030.', 'additional_kwargs': {'refusal': None}, 'response_metadata': {'token_usage': {'completion_tokens': 18, 'prompt_tokens': 531, 'total_tokens': 549, 'completion_tokens_details': {'audio_tokens': None, 'reasoning_tokens': 0}, 'prompt_tokens_details': {'audio_tokens': None, 'cached_tokens': 0}}, 'model_name': 'gpt-4o-2024-05-13', 'system_fingerprint': 'fp_057232b607', 'finish_reason': 'stop', 'logprobs': None}, 'type': 'ai', 'name': None, 'id': 'run-9ec625e4-365e-417c-ab83-38992d8b2775-0', 'example': False, 'tool_calls': [], 'invalid_tool_calls': [], 'usage_metadata': {'input_tokens': 531, 'output_tokens': 18, 'total_tokens': 549}}, {'content': 'How old Monk be by year 2030', 'additional_kwargs': {'example': False, 'additional_kwargs': {}, 'response_metadata': {}}, 'response_metadata': {}, 'type': 'human', 'name': None, 'id': '9cffb8c9-8ac8-4c4b-a08e-54bdd7746d6e', 'example': False}, {'content': 'Monk Avvari will be 9 years old by the year 2030.', 'additional_kwargs': {'refusal': None}, 'response_metadata': {'token_usage': {'completion_tokens': 18, 'prompt_tokens': 565, 'total_tokens': 583, 'completion_tokens_details': {'audio_tokens': None, 'reasoning_tokens': 0}, 'prompt_tokens_details': {'audio_tokens': None, 'cached_tokens': 0}}, 'model_name': 'gpt-4o-2024-05-13', 'system_fingerprint': 'fp_057232b607', 'finish_reason': 'stop', 'logprobs': None}, 'type': 'ai', 'name': None, 'id': 'run-0c8e65db-0f64-4827-8a8d-bebfeab1e98b-0', 'example': False, 'tool_calls': [], 'invalid_tool_calls': [], 'usage_metadata': {'input_tokens': 565, 'output_tokens': 18, 'total_tokens': 583}}, {'content': 'How old Monk be by year 2030', 'additional_kwargs': {'example': False, 'additional_kwargs': {}, 'response_metadata': {}}, 'response_metadata': {}, 'type': 'human', 'name': None, 'id': '4d0e58f6-7367-412e-bb0a-63b760a15c49', 'example': False}, {'content': 'Monk Avvari, born on June 12th, 2021, will be 9 years old by the year 2030.', 'additional_kwargs': {'refusal': None}, 'response_metadata': {'token_usage': {'completion_tokens': 30, 'prompt_tokens': 599, 'total_tokens': 629, 'completion_tokens_details': {'audio_tokens': None, 'reasoning_tokens': 0}, 'prompt_tokens_details': {'audio_tokens': None, 'cached_tokens': 0}}, 'model_name': 'gpt-4o-2024-05-13', 'system_fingerprint': 'fp_057232b607', 'finish_reason': 'stop', 'logprobs': None}, 'type': 'ai', 'name': None, 'id': 'run-264bea69-3e22-4221-b9a2-97f886bcc316-0', 'example': False, 'tool_calls': [], 'invalid_tool_calls': [], 'usage_metadata': {'input_tokens': 599, 'output_tokens': 30, 'total_tokens': 629}}, {'content': 'How old Monk be by year 2030', 'additional_kwargs': {'example': False, 'additional_kwargs': {}, 'response_metadata': {}}, 'response_metadata': {}, 'type': 'human', 'name': None, 'id': '41c797da-e880-4458-a746-41eb2a64d753', 'example': False}, {'content': 'How old Monk be by year 2030', 'additional_kwargs': {'example': False, 'additional_kwargs': {}, 'response_metadata': {}}, 'response_metadata': {}, 'type': 'human', 'name': None, 'id': 'd4352d36-b0dd-44e7-872b-3f89ede2c0e1', 'example': False}, {'content': 'Monk Avvari will be 9 years old by the year 2030.', 'additional_kwargs': {}, 'response_metadata': {'finish_reason': 'stop', 'model_name': 'gpt-4o-2024-05-13', 'system_fingerprint': 'fp_057232b607'}, 'type': 'ai', 'name': None, 'id': 'run-edfbaaa3-7aa1-4dc7-abda-b8d2930433e3', 'example': False, 'tool_calls': [], 'invalid_tool_calls': [], 'usage_metadata': None}, {'content': 'How old Monk be by year 2030', 'additional_kwargs': {'example': False, 'additional_kwargs': {}, 'response_metadata': {}}, 'response_metadata': {}, 'type': 'human', 'name': None, 'id': '868ee130-99bd-443f-b183-32d21123146d', 'example': False}, {'content': 'Monk Avvari, born on June 12th, 2021, will be 9 years old by the year 2030.', 'additional_kwargs': {}, 'response_metadata': {'finish_reason': 'stop', 'model_name': 'gpt-4o-2024-05-13', 'system_fingerprint': 'fp_057232b607'}, 'type': 'ai', 'name': None, 'id': 'run-5d0de1ff-878e-45a9-966d-58b55d7febd7', 'example': False, 'tool_calls': [], 'invalid_tool_calls': [], 'usage_metadata': None}, {'content': 'How old Monk be by year 2030', 'additional_kwargs': {'example': False, 'additional_kwargs': {}, 'response_metadata': {}}, 'response_metadata': {}, 'type': 'human', 'name': None, 'id': '6ce1626f-9e0e-4d8a-b910-65d09f914a39', 'example': False}, {'content': 'Monk Avvari will be 9 years old by the year 2030.', 'additional_kwargs': {}, 'response_metadata': {'finish_reason': 'stop', 'model_name': 'gpt-4o-2024-05-13', 'system_fingerprint': 'fp_057232b607'}, 'type': 'ai', 'name': None, 'id': 'run-3a56d091-a075-4f74-99e6-733150534247', 'example': False, 'tool_calls': [], 'invalid_tool_calls': [], 'usage_metadata': None}, {'content': 'How old Monk be by year 2030', 'additional_kwargs': {'example': False, 'additional_kwargs': {}, 'response_metadata': {}}, 'response_metadata': {}, 'type': 'human', 'name': None, 'id': '6be651ab-b0d5-428e-bb28-b4543dc4862c', 'example': False}, {'content': 'How old Monk be by year 2030', 'additional_kwargs': {'example': False, 'additional_kwargs': {}, 'response_metadata': {}}, 'response_metadata': {}, 'type': 'human', 'name': None, 'id': '65b21684-d8b0-4ef2-b1c4-e106425c84e6', 'example': False}, {'content': 'Monk Avvari, born on June 12th, 2021, will be 9 years old by the year 2030.', 'additional_kwargs': {}, 'response_metadata': {'finish_reason': 'stop', 'model_name': 'gpt-4o-2024-05-13', 'system_fingerprint': 'fp_057232b607'}, 'type': 'ai', 'name': None, 'id': 'run-8b19a5f8-3c0b-4512-a2f5-f0526c0fc4d3', 'example': False, 'tool_calls': [], 'invalid_tool_calls': [], 'usage_metadata': None}, {'content': 'How old Monk be by year 2030', 'additional_kwargs': {'example': False, 'additional_kwargs': {}, 'response_metadata': {}}, 'response_metadata': {}, 'type': 'human', 'name': None, 'id': '6ca746d1-77c8-47ce-8be7-2268a6ca37f9', 'example': False}, {'content': 'Monk Avvari will be 9 years old by the year 2030.', 'additional_kwargs': {}, 'response_metadata': {'finish_reason': 'stop', 'model_name': 'gpt-4o-2024-05-13', 'system_fingerprint': 'fp_057232b607'}, 'type': 'ai', 'name': None, 'id': 'run-eb5531d5-5876-43f0-b622-a8742bcfa761', 'example': False, 'tool_calls': [], 'invalid_tool_calls': [], 'usage_metadata': None}, {'content': 'How old Monk be by year 2030', 'additional_kwargs': {'example': False, 'additional_kwargs': {}, 'response_metadata': {}}, 'response_metadata': {}, 'type': 'human', 'name': None, 'id': 'b798cbdd-ecd8-4757-8fd4-5036d856e08a', 'example': False}, {'content': 'How old Monk be by year 2030', 'additional_kwargs': {'example': False, 'additional_kwargs': {}, 'response_metadata': {}}, 'response_metadata': {}, 'type': 'human', 'name': None, 'id': '4d47de8f-e12e-4c84-88e8-9c2109db3b6e', 'example': False}, {'content': 'Monk Avvari, born on June 12th, 2021, will be 9 years old by the year 2030.', 'additional_kwargs': {}, 'response_metadata': {'finish_reason': 'stop', 'model_name': 'gpt-4o-2024-05-13', 'system_fingerprint': 'fp_057232b607'}, 'type': 'ai', 'name': None, 'id': 'run-a3e97654-4e60-4664-8a84-e0566401bd88', 'example': False, 'tool_calls': [], 'invalid_tool_calls': [], 'usage_metadata': None}, {'content': 'How old Monk be by year 2030', 'additional_kwargs': {'example': False, 'additional_kwargs': {}, 'response_metadata': {}}, 'response_metadata': {}, 'type': 'human', 'name': None, 'id': '2303771a-fda2-431d-9b75-ba7309a83264', 'example': False}, {'content': 'Monk Avvari will be 9 years old by the year 2030.', 'additional_kwargs': {}, 'response_metadata': {'finish_reason': 'stop', 'model_name': 'gpt-4o-2024-05-13', 'system_fingerprint': 'fp_057232b607'}, 'type': 'ai', 'name': None, 'id': 'run-58d7dd03-31c1-4c69-a5ee-9f57c9496007', 'example': False, 'tool_calls': [], 'invalid_tool_calls': [], 'usage_metadata': None}, {'content': 'How old Monk be by year 2030', 'additional_kwargs': {'example': False, 'additional_kwargs': {}, 'response_metadata': {}}, 'response_metadata': {}, 'type': 'human', 'name': None, 'id': '1056c4e6-9b21-4de9-a97d-240cff01f875', 'example': False}, {'content': 'Monk Avvari, born on June 12th, 2021, will be 9 years old by the year 2030.', 'additional_kwargs': {}, 'response_metadata': {'finish_reason': 'stop', 'model_name': 'gpt-4o-2024-05-13', 'system_fingerprint': 'fp_057232b607'}, 'type': 'ai', 'name': None, 'id': 'run-efed8ed0-6745-4f47-a549-dc3a15b27e0a', 'example': False, 'tool_calls': [], 'invalid_tool_calls': [], 'usage_metadata': None}, {'content': 'How old Monk be by year 2030', 'additional_kwargs': {'example': False, 'additional_kwargs': {}, 'response_metadata': {}}, 'response_metadata': {}, 'type': 'human', 'name': None, 'id': '68fcfd34-4b22-48e5-a6a7-8a14f934d3cb', 'example': False}, {'content': 'Monk Avvari will be 9 years old by the year 2030.', 'additional_kwargs': {}, 'response_metadata': {'finish_reason': 'stop', 'model_name': 'gpt-4o-2024-05-13', 'system_fingerprint': 'fp_057232b607'}, 'type': 'ai', 'name': None, 'id': 'run-39035988-63ff-4df5-8801-ebdf45f8eacc', 'example': False, 'tool_calls': [], 'invalid_tool_calls': [], 'usage_metadata': None}, {'content': 'How old Monk be by year 2030', 'additional_kwargs': {'example': False, 'additional_kwargs': {}, 'response_metadata': {}}, 'response_metadata': {}, 'type': 'human', 'name': None, 'id': 'da945c86-3185-41a6-80ed-08a6d9e3c05b', 'example': False}, {'content': 'Monk Avvari, born on June 12th, 2021, will be 9 years old by the year 2030.', 'additional_kwargs': {}, 'response_metadata': {'finish_reason': 'stop', 'model_name': 'gpt-4o-2024-05-13', 'system_fingerprint': 'fp_057232b607'}, 'type': 'ai', 'name': None, 'id': 'run-d8b6897a-ede2-4be9-b471-07785d1b37a5', 'example': False, 'tool_calls': [], 'invalid_tool_calls': [], 'usage_metadata': None}, {'content': 'How old Monk be by year 2030', 'additional_kwargs': {'example': False, 'additional_kwargs': {}, 'response_metadata': {}}, 'response_metadata': {}, 'type': 'human', 'name': None, 'id': '7c5c4ebc-3336-479d-9827-712f34f9da1f', 'example': False}, {'content': 'Monk Avvari will be 9 years old by the year 2030.', 'additional_kwargs': {}, 'response_metadata': {'finish_reason': 'stop', 'model_name': 'gpt-4o-2024-05-13', 'system_fingerprint': 'fp_057232b607'}, 'type': 'ai', 'name': None, 'id': 'run-a8bd885c-95fa-4a9b-95a7-a0b5bb882848', 'example': False, 'tool_calls': [], 'invalid_tool_calls': [], 'usage_metadata': None}, {'content': 'How old Monk be by year 2030', 'additional_kwargs': {'example': False, 'additional_kwargs': {}, 'response_metadata': {}}, 'response_metadata': {}, 'type': 'human', 'name': None, 'id': '707eea4e-bc28-46e7-a09b-6031ea42ef77', 'example': False}, {'content': 'Monk Avvari, born on June 12th, 2021, will be 9 years old by the year 2030.', 'additional_kwargs': {}, 'response_metadata': {'finish_reason': 'stop', 'model_name': 'gpt-4o-2024-08-06', 'system_fingerprint': 'fp_2f406b9113'}, 'type': 'ai', 'name': None, 'id': 'run-04bb18db-e19c-4a8c-8088-324ece59172c', 'example': False, 'tool_calls': [], 'invalid_tool_calls': [], 'usage_metadata': None}, {'content': 'How old Monk be by year 2030', 'additional_kwargs': {'example': False, 'additional_kwargs': {}, 'response_metadata': {}}, 'response_metadata': {}, 'type': 'human', 'name': None, 'id': 'd3adac78-f2f5-4fa2-bc41-bd59a483a227', 'example': False}, {'content': 'Monk Avvari will be 9 years old by the year 2030.', 'additional_kwargs': {'refusal': None}, 'response_metadata': {'token_usage': {'completion_tokens': 18, 'prompt_tokens': 1164, 'total_tokens': 1182, 'completion_tokens_details': {'audio_tokens': None, 'reasoning_tokens': 0}, 'prompt_tokens_details': {'audio_tokens': None, 'cached_tokens': 0}}, 'model_name': 'gpt-4o-2024-05-13', 'system_fingerprint': 'fp_057232b607', 'finish_reason': 'stop', 'logprobs': None}, 'type': 'ai', 'name': None, 'id': 'run-7a00918d-47c1-4e8a-8ff8-dd0a1c3c1f10-0', 'example': False, 'tool_calls': [], 'invalid_tool_calls': [], 'usage_metadata': {'input_tokens': 1164, 'output_tokens': 18, 'total_tokens': 1182}}, {'content': 'How old Monk be by year 2030', 'additional_kwargs': {'example': False, 'additional_kwargs': {}, 'response_metadata': {}}, 'response_metadata': {}, 'type': 'human', 'name': None, 'id': '05868eb6-f454-4d28-8284-559f34547935', 'example': False}, {'content': 'Monk Avvari, born on June 12th, 2021, will be 9 years old by the year 2030.', 'additional_kwargs': {'refusal': None}, 'response_metadata': {'token_usage': {'completion_tokens': 30, 'prompt_tokens': 1198, 'total_tokens': 1228, 'completion_tokens_details': {'audio_tokens': None, 'reasoning_tokens': 0}, 'prompt_tokens_details': {'audio_tokens': None, 'cached_tokens': 1024}}, 'model_name': 'gpt-4o-2024-08-06', 'system_fingerprint': 'fp_2f406b9113', 'finish_reason': 'stop', 'logprobs': None}, 'type': 'ai', 'name': None, 'id': 'run-15a528f0-fa62-4714-a29a-872c043479b4-0', 'example': False, 'tool_calls': [], 'invalid_tool_calls': [], 'usage_metadata': {'input_tokens': 1198, 'output_tokens': 30, 'total_tokens': 1228}}, {'content': 'How old Monk be by year 2030', 'additional_kwargs': {'example': False, 'additional_kwargs': {}, 'response_metadata': {}}, 'response_metadata': {}, 'type': 'human', 'name': None, 'id': '0708d958-de9b-40f1-9e45-6974a0b3d006', 'example': False}, {'content': 'Monk Avvari will be 9 years old by the year 2030.', 'additional_kwargs': {'refusal': None}, 'response_metadata': {'token_usage': {'completion_tokens': 18, 'prompt_tokens': 1244, 'total_tokens': 1262, 'completion_tokens_details': {'audio_tokens': None, 'reasoning_tokens': 0}, 'prompt_tokens_details': {'audio_tokens': None, 'cached_tokens': 0}}, 'model_name': 'gpt-4o-2024-05-13', 'system_fingerprint': 'fp_057232b607', 'finish_reason': 'stop', 'logprobs': None}, 'type': 'ai', 'name': None, 'id': 'run-9a1454cc-87b8-431b-85a3-b7e4c69626b4-0', 'example': False, 'tool_calls': [], 'invalid_tool_calls': [], 'usage_metadata': {'input_tokens': 1244, 'output_tokens': 18, 'total_tokens': 1262}}, {'content': 'How old Monk be by year 2030', 'additional_kwargs': {'example': False, 'additional_kwargs': {}, 'response_metadata': {}}, 'response_metadata': {}, 'type': 'human', 'name': None, 'id': '4c29aba7-d230-478f-a06b-374f8c5f6b2d', 'example': False}, {'content': 'Monk Avvari, born on June 12th, 2021, will be 9 years old by the year 2030.', 'additional_kwargs': {'refusal': None}, 'response_metadata': {'token_usage': {'completion_tokens': 30, 'prompt_tokens': 1278, 'total_tokens': 1308, 'completion_tokens_details': {'audio_tokens': None, 'reasoning_tokens': 0}, 'prompt_tokens_details': {'audio_tokens': None, 'cached_tokens': 0}}, 'model_name': 'gpt-4o-2024-05-13', 'system_fingerprint': 'fp_057232b607', 'finish_reason': 'stop', 'logprobs': None}, 'type': 'ai', 'name': None, 'id': 'run-57c7f568-9278-430d-9c73-4da48de3cf44-0', 'example': False, 'tool_calls': [], 'invalid_tool_calls': [], 'usage_metadata': {'input_tokens': 1278, 'output_tokens': 30, 'total_tokens': 1308}}, {'content': 'How old Monk be by year 2030', 'additional_kwargs': {'example': False, 'additional_kwargs': {}, 'response_metadata': {}}, 'response_metadata': {}, 'type': 'human', 'name': None, 'id': '2a467103-c29c-444d-b4e6-f29f0b1389ea', 'example': False}, {'content': 'Monk Avvari will be 9 years old by the year 2030.', 'additional_kwargs': {'refusal': None}, 'response_metadata': {'token_usage': {'completion_tokens': 18, 'prompt_tokens': 1324, 'total_tokens': 1342, 'completion_tokens_details': {'audio_tokens': None, 'reasoning_tokens': 0}, 'prompt_tokens_details': {'audio_tokens': None, 'cached_tokens': 0}}, 'model_name': 'gpt-4o-2024-05-13', 'system_fingerprint': 'fp_5796ac6771', 'finish_reason': 'stop', 'logprobs': None}, 'type': 'ai', 'name': None, 'id': 'run-36259790-2511-41a2-a46c-7fec287f9aa7-0', 'example': False, 'tool_calls': [], 'invalid_tool_calls': [], 'usage_metadata': {'input_tokens': 1324, 'output_tokens': 18, 'total_tokens': 1342}}, {'content': 'How old Monk be by year 2030', 'additional_kwargs': {'example': False, 'additional_kwargs': {}, 'response_metadata': {}}, 'response_metadata': {}, 'type': 'human', 'name': None, 'id': 'd6d187eb-36b4-4de8-8426-055ea7608479', 'example': False}, {'content': 'Monk Avvari, born on June 12th, 2021, will be 9 years old by the year 2030.', 'additional_kwargs': {'refusal': None}, 'response_metadata': {'token_usage': {'completion_tokens': 30, 'prompt_tokens': 1358, 'total_tokens': 1388, 'completion_tokens_details': {'audio_tokens': None, 'reasoning_tokens': 0}, 'prompt_tokens_details': {'audio_tokens': None, 'cached_tokens': 0}}, 'model_name': 'gpt-4o-2024-05-13', 'system_fingerprint': 'fp_057232b607', 'finish_reason': 'stop', 'logprobs': None}, 'type': 'ai', 'name': None, 'id': 'run-10ad7ba1-7f13-4f5b-8dee-035eeb80f002-0', 'example': False, 'tool_calls': [], 'invalid_tool_calls': [], 'usage_metadata': {'input_tokens': 1358, 'output_tokens': 30, 'total_tokens': 1388}}, {'content': 'How old Monk be by year 2030', 'additional_kwargs': {'example': False, 'additional_kwargs': {}, 'response_metadata': {}}, 'response_metadata': {}, 'type': 'human', 'name': None, 'id': '9c00f30e-9549-4850-b027-d6f9347a0338', 'example': False}, {'content': 'Monk Avvari will be 9 years old by the year 2030.', 'additional_kwargs': {'refusal': None}, 'response_metadata': {'token_usage': {'completion_tokens': 18, 'prompt_tokens': 1404, 'total_tokens': 1422, 'completion_tokens_details': {'audio_tokens': None, 'reasoning_tokens': 0}, 'prompt_tokens_details': {'audio_tokens': None, 'cached_tokens': 0}}, 'model_name': 'gpt-4o-2024-05-13', 'system_fingerprint': 'fp_057232b607', 'finish_reason': 'stop', 'logprobs': None}, 'type': 'ai', 'name': None, 'id': 'run-6b3dd4c7-eda8-4776-99ca-c0f4a18ea036-0', 'example': False, 'tool_calls': [], 'invalid_tool_calls': [], 'usage_metadata': {'input_tokens': 1404, 'output_tokens': 18, 'total_tokens': 1422}}, {'content': 'How old Monk be by year 2030', 'additional_kwargs': {'example': False, 'additional_kwargs': {}, 'response_metadata': {}}, 'response_metadata': {}, 'type': 'human', 'name': None, 'id': 'a3f3f3b0-6725-4f6c-8df1-920aa7809f85', 'example': False}, {'content': 'Monk Avvari, born on June 12th, 2021, will be 9 years old by the year 2030.', 'additional_kwargs': {'refusal': None}, 'response_metadata': {'token_usage': {'completion_tokens': 30, 'prompt_tokens': 1438, 'total_tokens': 1468, 'completion_tokens_details': {'audio_tokens': None, 'reasoning_tokens': 0}, 'prompt_tokens_details': {'audio_tokens': None, 'cached_tokens': 0}}, 'model_name': 'gpt-4o-2024-05-13', 'system_fingerprint': 'fp_057232b607', 'finish_reason': 'stop', 'logprobs': None}, 'type': 'ai', 'name': None, 'id': 'run-a04d753b-c2ba-419c-8044-376c60d90422-0', 'example': False, 'tool_calls': [], 'invalid_tool_calls': [], 'usage_metadata': {'input_tokens': 1438, 'output_tokens': 30, 'total_tokens': 1468}}, {'content': 'How old Monk be by year 2030', 'additional_kwargs': {'example': False, 'additional_kwargs': {}, 'response_metadata': {}}, 'response_metadata': {}, 'type': 'human', 'name': None, 'id': '65d6fca6-2c37-4e3d-9361-339b726ff7a0', 'example': False}, {'content': 'Monk Avvari will be 9 years old by the year 2030.', 'additional_kwargs': {'refusal': None}, 'response_metadata': {'token_usage': {'completion_tokens': 18, 'prompt_tokens': 1484, 'total_tokens': 1502, 'completion_tokens_details': {'audio_tokens': None, 'reasoning_tokens': 0}, 'prompt_tokens_details': {'audio_tokens': None, 'cached_tokens': 0}}, 'model_name': 'gpt-4o-2024-05-13', 'system_fingerprint': 'fp_057232b607', 'finish_reason': 'stop', 'logprobs': None}, 'type': 'ai', 'name': None, 'id': 'run-272d15d8-6d75-480d-846a-78cc402b5727-0', 'example': False, 'tool_calls': [], 'invalid_tool_calls': [], 'usage_metadata': {'input_tokens': 1484, 'output_tokens': 18, 'total_tokens': 1502}}, {'content': 'How old Monk be by year 2030', 'additional_kwargs': {'example': False, 'additional_kwargs': {}, 'response_metadata': {}}, 'response_metadata': {}, 'type': 'human', 'name': None, 'id': '9ba1f079-bbae-4581-a8fa-940f3b136453', 'example': False}, {'content': 'Monk Avvari, born on June 12th, 2021, will be 9 years old by the year 2030.', 'additional_kwargs': {'refusal': None}, 'response_metadata': {'token_usage': {'completion_tokens': 30, 'prompt_tokens': 1518, 'total_tokens': 1548, 'completion_tokens_details': {'audio_tokens': None, 'reasoning_tokens': 0}, 'prompt_tokens_details': {'audio_tokens': None, 'cached_tokens': 0}}, 'model_name': 'gpt-4o-2024-05-13', 'system_fingerprint': 'fp_5796ac6771', 'finish_reason': 'stop', 'logprobs': None}, 'type': 'ai', 'name': None, 'id': 'run-86cddae8-f788-4db1-b018-0ef34c2de074-0', 'example': False, 'tool_calls': [], 'invalid_tool_calls': [], 'usage_metadata': {'input_tokens': 1518, 'output_tokens': 30, 'total_tokens': 1548}}, {'content': 'How old Monk be by year 2030', 'additional_kwargs': {'example': False, 'additional_kwargs': {}, 'response_metadata': {}}, 'response_metadata': {}, 'type': 'human', 'name': None, 'id': '96a3fe4c-8747-484c-a6b2-9429ccaabc4d', 'example': False}, {'content': 'Monk Avvari will be 9 years old by the year 2030.', 'additional_kwargs': {'refusal': None}, 'response_metadata': {'token_usage': {'completion_tokens': 18, 'prompt_tokens': 1564, 'total_tokens': 1582, 'completion_tokens_details': {'audio_tokens': None, 'reasoning_tokens': 0}, 'prompt_tokens_details': {'audio_tokens': None, 'cached_tokens': 0}}, 'model_name': 'gpt-4o-2024-05-13', 'system_fingerprint': 'fp_057232b607', 'finish_reason': 'stop', 'logprobs': None}, 'type': 'ai', 'name': None, 'id': 'run-ef3dc2e8-7c9a-4fb6-b803-74cb54fee03c-0', 'example': False, 'tool_calls': [], 'invalid_tool_calls': [], 'usage_metadata': {'input_tokens': 1564, 'output_tokens': 18, 'total_tokens': 1582}}]}, 'next': [], 'tasks': [], 'metadata': {'step': 89, 'run_id': '1ef80e80-dc41-6d9e-8c6a-03b7d6e13453', 'source': 'loop', 'writes': {'agent': {'messages': [{'id': 'run-ef3dc2e8-7c9a-4fb6-b803-74cb54fee03c-0', 'name': None, 'type': 'ai', 'content': 'Monk Avvari will be 9 years old by the year 2030.', 'example': False, 'tool_calls': [], 'usage_metadata': {'input_tokens': 1564, 'total_tokens': 1582, 'output_tokens': 18}, 'additional_kwargs': {'refusal': None}, 'response_metadata': {'logprobs': None, 'model_name': 'gpt-4o-2024-05-13', 'token_usage': {'total_tokens': 1582, 'prompt_tokens': 1564, 'completion_tokens': 18, 'prompt_tokens_details': {'audio_tokens': None, 'cached_tokens': 0}, 'completion_tokens_details': {'audio_tokens': None, 'reasoning_tokens': 0}}, 'finish_reason': 'stop', 'system_fingerprint': 'fp_057232b607'}, 'invalid_tool_calls': []}]}}, 'parents': {}, 'user_id': '', 'graph_id': 'agent', 'thread_id': '60a9fef3-a765-4923-bf63-7120da098c77', 'created_by': 'system', 'model_name': 'openai', 'run_attempt': 1, 'assistant_id': 'fe096781-5601-53d2-b2f6-0d3403f7e9ca'}, 'created_at': '2024-10-02T17:59:23.458128+00:00', 'checkpoint': {'thread_id': '60a9fef3-a765-4923-bf63-7120da098c77', 'checkpoint_ns': '', 'checkpoint_id': '1ef80e80-e6d3-6868-8059-1c36b6f99f38'}, 'parent_checkpoint': {'thread_id': '60a9fef3-a765-4923-bf63-7120da098c77', 'checkpoint_ns': '', 'checkpoint_id': '1ef80e80-dd6e-6fcf-8058-edb6d875e78b'}, 'checkpoint_id': '1ef80e80-e6d3-6868-8059-1c36b6f99f38', 'parent_checkpoint_id': '1ef80e80-dd6e-6fcf-8058-edb6d875e78b'}\n",
      "[ { 'function': { 'arguments': '{\"query\":\"Monk Avvari birth year\"}',\n",
      "                  'name': 'About_Monk_Avvari'},\n",
      "    'id': 'call_buiOAVh5SH0IEcr1FaGeEEGO',\n",
      "    'index': 0,\n",
      "    'type': 'function'}]\n",
      "[ { 'function': {'arguments': '{\"a\":2021,\"b\":9}', 'name': 'add'},\n",
      "    'id': 'call_IMisquDvZaWL0LJBjzml9mqn',\n",
      "    'index': 0,\n",
      "    'type': 'function'}]\n"
     ]
    }
   ],
   "source": [
    "thread_state = await client.threads.get_state(\n",
    "                thread_id=thread['thread_id'],\n",
    "            )\n",
    "for msg in thread_state['values']['messages']:\n",
    "    if 'tool_calls' in msg['additional_kwargs']:\n",
    "        pp.pprint(msg['additional_kwargs']['tool_calls'])\n"
   ]
  }
 ],
 "metadata": {
  "kernelspec": {
   "display_name": ".venv",
   "language": "python",
   "name": "python3"
  },
  "language_info": {
   "codemirror_mode": {
    "name": "ipython",
    "version": 3
   },
   "file_extension": ".py",
   "mimetype": "text/x-python",
   "name": "python",
   "nbconvert_exporter": "python",
   "pygments_lexer": "ipython3",
   "version": "3.12.3"
  }
 },
 "nbformat": 4,
 "nbformat_minor": 2
}
